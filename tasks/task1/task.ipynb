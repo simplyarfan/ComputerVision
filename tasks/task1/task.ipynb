{
 "cells": [
  {
   "cell_type": "markdown",
   "id": "09edeb17-dd8a-4f73-9765-b1e64f9c5b53",
   "metadata": {},
   "source": [
    "# Task\n",
    "\n",
    "Sergei Mikhailovich Prokudin-Gorskii (1863-1944), a pioneering photographer extensively traveled the Russian Empire from 1909 to 1915, capturing thousands of images. Employing an early color technology, he recorded three images of each scene onto glass plates using red, green, and blue filters. \n",
    "\n",
    "Your task is to take Gorskii glass plate RGB color channels and produce a color image with as few visual artifacts as possible (ignore the artifacts at the image boundaries). To do this, you will need to read the image file, extract the three color channel images, place them on top of each other, and align them so that they form a single RGB color image. You will need to implement this in Python.\n",
    "\n",
    "**Note** that the channel order for all files from top to bottom is BGR, not RGB!"
   ]
  },
  {
   "cell_type": "code",
   "execution_count": 4,
   "id": "cbb14568-8549-48f7-8552-0b9dc6559f79",
   "metadata": {},
   "outputs": [
    {
     "name": "stderr",
     "output_type": "stream",
     "text": [
      "Matplotlib is building the font cache; this may take a moment.\n"
     ]
    }
   ],
   "source": [
    "import cv2 as cv\n",
    "from matplotlib import pyplot as plt \n",
    "import numpy as np"
   ]
  },
  {
   "cell_type": "code",
   "execution_count": 9,
   "id": "5330d743-d208-42f7-93c0-8d63d7f0c43a",
   "metadata": {},
   "outputs": [
    {
     "name": "stdout",
     "output_type": "stream",
     "text": [
      "Error: Unable to load image 00153v.jpg\n"
     ]
    },
    {
     "name": "stderr",
     "output_type": "stream",
     "text": [
      "[ WARN:0@326.470] global loadsave.cpp:268 findDecoder imread_('00153v.jpg'): can't open/read file: check file path/integrity\n"
     ]
    }
   ],
   "source": [
    "ausid = 92529 # use last five digits of your ausid, e.g 83452\n",
    "if ausid % 3 == 0: filename = '00153v.jpg'\n",
    "if ausid % 3 == 1: filename = '00149v.jpg'\n",
    "if ausid % 3 == 2: filename = '00351v.jpg'\n",
    "img = cv.imread(filename, cv.IMREAD_GRAYSCALE)\n",
    "\n",
    "if img is not None:\n",
    "\tplt.imshow(img, cmap='gray')\n",
    "else:\n",
    "\tprint(f\"Error: Unable to load image {filename}\")\n"
   ]
  },
  {
   "cell_type": "code",
   "execution_count": 3,
   "id": "605b0991-4b96-4dc6-8f6c-8374a828c7a9",
   "metadata": {},
   "outputs": [],
   "source": [
    "# Step 1 [5 points]: Read the image, extract the Blue, Green and Red channels, stack the channels and display using matplotlib\n",
    "# TODO: YOUR CODE\n",
    "\n",
    "\n",
    "\n",
    "\n",
    "\n",
    "# When you display the image, you will notice that the color channels are not aligned properly. "
   ]
  },
  {
   "cell_type": "code",
   "execution_count": 4,
   "id": "bc5b62df-0b6e-4140-b8ad-a2bc35163fe8",
   "metadata": {},
   "outputs": [],
   "source": [
    "# Step 2: Find the displacement needed to align RGB channels by following the steps below:\n",
    "#          (1) [3 pts] Use canny edge detector to find the edges \n",
    "# TODO: YOUR CODE\n",
    "\n",
    "\n",
    "\n",
    "\n",
    "#         (2) [4 pts] Identify horizontal or vertical edges which could help you find the displacement needed \n",
    "#             to align the color channels. You can just write your findings here. \n",
    "#             No need to show the code for this section\n",
    "# TODO: YOUR Findings\n",
    "#\n",
    "#\n",
    "#\n",
    "#\n",
    "\n",
    "#         (3) [6 pts] Design and apply filters using convolution to align/shift the color channels \n",
    "# TODO: YOUR CODE\n",
    "\n",
    "\n",
    "\n",
    "\n",
    "\n",
    "#         (4) [2 pts] stacking the channels and display. \n",
    "# TODO: YOUR CODE"
   ]
  },
  {
   "cell_type": "markdown",
   "id": "e01f75e5-f3c9-47eb-b5e8-bb11ecbddf08",
   "metadata": {},
   "source": [
    "# Submission\n",
    "\n",
    "- Submit the pdf of this completed notebook on iLearn"
   ]
  },
  {
   "cell_type": "code",
   "execution_count": null,
   "id": "ea1a1dc4-4b42-4c7e-a3c6-e9775fc846c9",
   "metadata": {},
   "outputs": [],
   "source": []
  }
 ],
 "metadata": {
  "kernelspec": {
   "display_name": "Python 3",
   "language": "python",
   "name": "python3"
  },
  "language_info": {
   "codemirror_mode": {
    "name": "ipython",
    "version": 3
   },
   "file_extension": ".py",
   "mimetype": "text/x-python",
   "name": "python",
   "nbconvert_exporter": "python",
   "pygments_lexer": "ipython3",
   "version": "3.13.1"
  }
 },
 "nbformat": 4,
 "nbformat_minor": 5
}
